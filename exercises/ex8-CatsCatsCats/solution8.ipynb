{
 "cells": [
  {
   "cell_type": "code",
   "execution_count": 1,
   "id": "d8f935fd-62f7-4a54-9697-690daf333a2e",
   "metadata": {
    "tags": []
   },
   "outputs": [],
   "source": [
    "from skimage import io\n",
    "from skimage.util import img_as_ubyte\n",
    "import matplotlib.pyplot as plt\n",
    "import numpy as np\n",
    "import glob\n",
    "from sklearn.decomposition import PCA\n",
    "from skimage.transform import SimilarityTransform\n",
    "from skimage.transform import warp\n",
    "import os\n",
    "import pathlib"
   ]
  },
  {
   "cell_type": "markdown",
   "id": "0e5356e0-5df4-45ad-a5d8-8812738da8ec",
   "metadata": {},
   "source": [
    "## Exercise 1: Preprocessing data for machine learning"
   ]
  },
  {
   "cell_type": "code",
   "execution_count": 2,
   "id": "14daa283-6a03-4168-9f18-1ca63e71eefd",
   "metadata": {
    "tags": []
   },
   "outputs": [],
   "source": [
    "def read_landmark_file(file_name):\n",
    "    f = open(file_name, 'r')\n",
    "    lm_s = f.readline().strip().split(' ')\n",
    "    n_lms = int(lm_s[0])\n",
    "    if n_lms < 3:\n",
    "        print(f\"Not enough landmarks found\")\n",
    "        return None\n",
    "\n",
    "    new_lms = 3\n",
    "    # 3 landmarks each with (x,y)\n",
    "    lm = np.zeros((new_lms, 2))\n",
    "    for i in range(new_lms):\n",
    "        lm[i, 0] = lm_s[1 + i * 2]\n",
    "        lm[i, 1] = lm_s[2 + i * 2]\n",
    "    return lm"
   ]
  },
  {
   "cell_type": "code",
   "execution_count": 3,
   "id": "67873bf7-163d-42f0-909c-8d1e6a786045",
   "metadata": {
    "tags": []
   },
   "outputs": [],
   "source": [
    "def align_and_crop_one_cat_to_destination_cat(img_src, lm_src, img_dst, lm_dst):\n",
    "    \"\"\"\n",
    "    Landmark based alignment of one cat image to a destination\n",
    "    :param img_src: Image of source cat\n",
    "    :param lm_src: Landmarks for source cat\n",
    "    :param lm_dst: Landmarks for destination cat\n",
    "    :return: Warped and cropped source image. None if something did not work\n",
    "    \"\"\"\n",
    "    tform = SimilarityTransform()\n",
    "    tform.estimate(lm_src, lm_dst)\n",
    "    warped = warp(img_src, tform.inverse, output_shape=img_dst.shape)\n",
    "\n",
    "    # Center of crop region\n",
    "    cy = 185\n",
    "    cx = 210\n",
    "    # half the size of the crop box\n",
    "    sz = 180\n",
    "    warp_crop = warped[cy - sz:cy + sz, cx - sz:cx + sz]\n",
    "    shape = warp_crop.shape\n",
    "    if shape[0] == sz * 2 and shape[1] == sz * 2:\n",
    "        return img_as_ubyte(warp_crop)\n",
    "    else:\n",
    "        print(f\"Could not crop image. It has shape {shape}. Probably to close to border of image\")\n",
    "        return None"
   ]
  },
  {
   "cell_type": "code",
   "execution_count": 4,
   "id": "a559b3fd-13d0-4c61-95d7-3f8ba9c508ba",
   "metadata": {
    "tags": []
   },
   "outputs": [],
   "source": [
    "def preprocess_all_cats(in_dir, out_dir):\n",
    "    \"\"\"\n",
    "    Create aligned and cropped version of image\n",
    "    :param in_dir: Where are the original photos and landmark files\n",
    "    :param out_dir: Where should the preprocessed files be placed\n",
    "    \"\"\"\n",
    "    dst = \"data/ModelCat\"\n",
    "    dst_lm = read_landmark_file(f\"{dst}.jpg.cat\")\n",
    "    dst_img = io.imread(f\"{dst}.jpg\")\n",
    "\n",
    "    all_images = glob.glob(in_dir + \"*.jpg\")\n",
    "    for img_idx in all_images:\n",
    "        name_no_ext = os.path.splitext(img_idx)[0]\n",
    "        base_name = os.path.basename(name_no_ext)\n",
    "        out_name = f\"{out_dir}/{base_name}_preprocessed.jpg\"\n",
    "\n",
    "        src_lm = read_landmark_file(f\"{name_no_ext}.jpg.cat\")\n",
    "        src_img = io.imread(f\"{name_no_ext}.jpg\")\n",
    "\n",
    "        proc_img = align_and_crop_one_cat_to_destination_cat(src_img, src_lm, dst_img, dst_lm)\n",
    "        if proc_img is not None:\n",
    "            io.imsave(out_name, proc_img)"
   ]
  },
  {
   "cell_type": "code",
   "execution_count": 5,
   "id": "7c662b7d-dbc3-46ed-b673-c316d376a760",
   "metadata": {
    "tags": []
   },
   "outputs": [],
   "source": [
    "def preprocess_one_cat():\n",
    "    src = \"data/MissingCat\"\n",
    "    dst = \"data/ModelCat\"\n",
    "    out = \"data/MissingCatProcessed.jpg\"\n",
    "\n",
    "    src_lm = read_landmark_file(f\"{src}.jpg.cat\")\n",
    "    dst_lm = read_landmark_file(f\"{dst}.jpg.cat\")\n",
    "\n",
    "    src_img = io.imread(f\"{src}.jpg\")\n",
    "    dst_img = io.imread(f\"{dst}.jpg\")\n",
    "\n",
    "    src_proc = align_and_crop_one_cat_to_destination_cat(src_img, src_lm, dst_img, dst_lm)\n",
    "    if src_proc is None:\n",
    "        return\n",
    "\n",
    "    io.imsave(out, src_proc)\n",
    "\n",
    "    fig, ax = plt.subplots(ncols=3, figsize=(16, 6))\n",
    "    ax[0].imshow(src_img)\n",
    "    ax[0].plot(src_lm[:, 0], src_lm[:, 1], '.r', markersize=12)\n",
    "    ax[1].imshow(dst_img)\n",
    "    ax[1].plot(dst_lm[:, 0], dst_lm[:, 1], '.r', markersize=12)\n",
    "    ax[2].imshow(src_proc)\n",
    "    for a in ax:\n",
    "        a.axis('off')\n",
    "    plt.tight_layout()\n",
    "    plt.show()"
   ]
  },
  {
   "cell_type": "code",
   "execution_count": 6,
   "id": "591b9d44-b47b-4c69-b090-f064ba52275b",
   "metadata": {
    "tags": []
   },
   "outputs": [],
   "source": [
    "def create_u_byte_image_from_vector(im_vec, height, width, channels):\n",
    "    min_val = im_vec.min()\n",
    "    max_val = im_vec.max()\n",
    "\n",
    "    # Transform to [0, 1]\n",
    "    im_vec = np.subtract(im_vec, min_val)\n",
    "    im_vec = np.divide(im_vec, max_val - min_val)\n",
    "    im_vec = im_vec.reshape(height, width, channels)\n",
    "    im_out = img_as_ubyte(im_vec)\n",
    "    return im_out"
   ]
  },
  {
   "cell_type": "code",
   "execution_count": 7,
   "id": "5822d464-9d33-4399-9c09-aeb1bba99a9f",
   "metadata": {
    "tags": []
   },
   "outputs": [],
   "source": [
    "preprocess_all_cats('data/cats100', 'data/cats100_p')"
   ]
  },
  {
   "cell_type": "code",
   "execution_count": null,
   "id": "4914af96-814f-4841-aee1-73a46cae2357",
   "metadata": {},
   "outputs": [],
   "source": []
  }
 ],
 "metadata": {
  "kernelspec": {
   "display_name": "Python 3 (ipykernel)",
   "language": "python",
   "name": "python3"
  },
  "language_info": {
   "codemirror_mode": {
    "name": "ipython",
    "version": 3
   },
   "file_extension": ".py",
   "mimetype": "text/x-python",
   "name": "python",
   "nbconvert_exporter": "python",
   "pygments_lexer": "ipython3",
   "version": "3.9.16"
  }
 },
 "nbformat": 4,
 "nbformat_minor": 5
}
