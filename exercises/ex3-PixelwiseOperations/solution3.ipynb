{
 "cells": [
  {
   "cell_type": "markdown",
   "id": "dd4f8ea1-4dcd-4445-a641-ea006465e3b9",
   "metadata": {},
   "source": [
    "## Exercise 1"
   ]
  },
  {
   "cell_type": "code",
   "execution_count": 1,
   "id": "c7cb6f70-bf86-46ab-811d-e536f67349bb",
   "metadata": {},
   "outputs": [
    {
     "ename": "ImportError",
     "evalue": "/home/chris/anaconda3/envs/course02502/lib/python3.9/site-packages/zmq/backend/cython/../../../../.././libstdc++.so.6: version `GLIBCXX_3.4.30' not found (required by /home/chris/anaconda3/envs/course02502/lib/python3.9/site-packages/scipy/fft/_pocketfft/pypocketfft.cpython-39-x86_64-linux-gnu.so)",
     "output_type": "error",
     "traceback": [
      "\u001b[0;31m---------------------------------------------------------------------------\u001b[0m",
      "\u001b[0;31mImportError\u001b[0m                               Traceback (most recent call last)",
      "Cell \u001b[0;32mIn[1], line 1\u001b[0m\n\u001b[0;32m----> 1\u001b[0m \u001b[38;5;28;01mfrom\u001b[39;00m \u001b[38;5;21;01mskimage\u001b[39;00m \u001b[38;5;28;01mimport\u001b[39;00m color, io, measure, img_as_ubyte, exposure\n\u001b[1;32m      2\u001b[0m \u001b[38;5;28;01mfrom\u001b[39;00m \u001b[38;5;21;01mskimage\u001b[39;00m\u001b[38;5;21;01m.\u001b[39;00m\u001b[38;5;21;01mmeasure\u001b[39;00m \u001b[38;5;28;01mimport\u001b[39;00m profile_line\n\u001b[1;32m      3\u001b[0m \u001b[38;5;28;01mfrom\u001b[39;00m \u001b[38;5;21;01mskimage\u001b[39;00m\u001b[38;5;21;01m.\u001b[39;00m\u001b[38;5;21;01mtransform\u001b[39;00m \u001b[38;5;28;01mimport\u001b[39;00m rescale, resize\n",
      "File \u001b[0;32m~/anaconda3/envs/course02502/lib/python3.9/site-packages/skimage/_shared/lazy.py:62\u001b[0m, in \u001b[0;36mattach.<locals>.__getattr__\u001b[0;34m(name)\u001b[0m\n\u001b[1;32m     60\u001b[0m \u001b[38;5;28;01mdef\u001b[39;00m \u001b[38;5;21m__getattr__\u001b[39m(name):\n\u001b[1;32m     61\u001b[0m     \u001b[38;5;28;01mif\u001b[39;00m name \u001b[38;5;129;01min\u001b[39;00m submodules:\n\u001b[0;32m---> 62\u001b[0m         \u001b[38;5;28;01mreturn\u001b[39;00m \u001b[43mimportlib\u001b[49m\u001b[38;5;241;43m.\u001b[39;49m\u001b[43mimport_module\u001b[49m\u001b[43m(\u001b[49m\u001b[38;5;124;43mf\u001b[39;49m\u001b[38;5;124;43m'\u001b[39;49m\u001b[38;5;132;43;01m{\u001b[39;49;00m\u001b[43mpackage_name\u001b[49m\u001b[38;5;132;43;01m}\u001b[39;49;00m\u001b[38;5;124;43m.\u001b[39;49m\u001b[38;5;132;43;01m{\u001b[39;49;00m\u001b[43mname\u001b[49m\u001b[38;5;132;43;01m}\u001b[39;49;00m\u001b[38;5;124;43m'\u001b[39;49m\u001b[43m)\u001b[49m\n\u001b[1;32m     63\u001b[0m     \u001b[38;5;28;01melif\u001b[39;00m name \u001b[38;5;129;01min\u001b[39;00m attr_to_modules:\n\u001b[1;32m     64\u001b[0m         submod \u001b[38;5;241m=\u001b[39m importlib\u001b[38;5;241m.\u001b[39mimport_module(\n\u001b[1;32m     65\u001b[0m             \u001b[38;5;124mf\u001b[39m\u001b[38;5;124m'\u001b[39m\u001b[38;5;132;01m{\u001b[39;00mpackage_name\u001b[38;5;132;01m}\u001b[39;00m\u001b[38;5;124m.\u001b[39m\u001b[38;5;132;01m{\u001b[39;00mattr_to_modules[name]\u001b[38;5;132;01m}\u001b[39;00m\u001b[38;5;124m'\u001b[39m\n\u001b[1;32m     66\u001b[0m         )\n",
      "File \u001b[0;32m~/anaconda3/envs/course02502/lib/python3.9/importlib/__init__.py:127\u001b[0m, in \u001b[0;36mimport_module\u001b[0;34m(name, package)\u001b[0m\n\u001b[1;32m    125\u001b[0m             \u001b[38;5;28;01mbreak\u001b[39;00m\n\u001b[1;32m    126\u001b[0m         level \u001b[38;5;241m+\u001b[39m\u001b[38;5;241m=\u001b[39m \u001b[38;5;241m1\u001b[39m\n\u001b[0;32m--> 127\u001b[0m \u001b[38;5;28;01mreturn\u001b[39;00m \u001b[43m_bootstrap\u001b[49m\u001b[38;5;241;43m.\u001b[39;49m\u001b[43m_gcd_import\u001b[49m\u001b[43m(\u001b[49m\u001b[43mname\u001b[49m\u001b[43m[\u001b[49m\u001b[43mlevel\u001b[49m\u001b[43m:\u001b[49m\u001b[43m]\u001b[49m\u001b[43m,\u001b[49m\u001b[43m \u001b[49m\u001b[43mpackage\u001b[49m\u001b[43m,\u001b[49m\u001b[43m \u001b[49m\u001b[43mlevel\u001b[49m\u001b[43m)\u001b[49m\n",
      "File \u001b[0;32m~/anaconda3/envs/course02502/lib/python3.9/site-packages/skimage/measure/__init__.py:6\u001b[0m\n\u001b[1;32m      3\u001b[0m \u001b[38;5;28;01mfrom\u001b[39;00m \u001b[38;5;21;01m.\u001b[39;00m\u001b[38;5;21;01m_marching_cubes_classic\u001b[39;00m \u001b[38;5;28;01mimport\u001b[39;00m mesh_surface_area\n\u001b[1;32m      4\u001b[0m \u001b[38;5;28;01mfrom\u001b[39;00m \u001b[38;5;21;01m.\u001b[39;00m\u001b[38;5;21;01m_regionprops\u001b[39;00m \u001b[38;5;28;01mimport\u001b[39;00m (regionprops, perimeter,\n\u001b[1;32m      5\u001b[0m                            perimeter_crofton, euler_number, regionprops_table)\n\u001b[0;32m----> 6\u001b[0m \u001b[38;5;28;01mfrom\u001b[39;00m \u001b[38;5;21;01m.\u001b[39;00m\u001b[38;5;21;01m_polygon\u001b[39;00m \u001b[38;5;28;01mimport\u001b[39;00m approximate_polygon, subdivide_polygon\n\u001b[1;32m      7\u001b[0m \u001b[38;5;28;01mfrom\u001b[39;00m \u001b[38;5;21;01m.\u001b[39;00m\u001b[38;5;21;01mpnpoly\u001b[39;00m \u001b[38;5;28;01mimport\u001b[39;00m points_in_poly, grid_points_in_poly\n\u001b[1;32m      8\u001b[0m \u001b[38;5;28;01mfrom\u001b[39;00m \u001b[38;5;21;01m.\u001b[39;00m\u001b[38;5;21;01m_moments\u001b[39;00m \u001b[38;5;28;01mimport\u001b[39;00m (moments, moments_central, moments_coords,\n\u001b[1;32m      9\u001b[0m                        moments_coords_central, moments_normalized, centroid,\n\u001b[1;32m     10\u001b[0m                        moments_hu, inertia_tensor, inertia_tensor_eigvals)\n",
      "File \u001b[0;32m~/anaconda3/envs/course02502/lib/python3.9/site-packages/skimage/measure/_polygon.py:2\u001b[0m\n\u001b[1;32m      1\u001b[0m \u001b[38;5;28;01mimport\u001b[39;00m \u001b[38;5;21;01mnumpy\u001b[39;00m \u001b[38;5;28;01mas\u001b[39;00m \u001b[38;5;21;01mnp\u001b[39;00m\n\u001b[0;32m----> 2\u001b[0m \u001b[38;5;28;01mfrom\u001b[39;00m \u001b[38;5;21;01mscipy\u001b[39;00m \u001b[38;5;28;01mimport\u001b[39;00m signal\n\u001b[1;32m      5\u001b[0m \u001b[38;5;28;01mdef\u001b[39;00m \u001b[38;5;21mapproximate_polygon\u001b[39m(coords, tolerance):\n\u001b[1;32m      6\u001b[0m \u001b[38;5;250m    \u001b[39m\u001b[38;5;124;03m\"\"\"Approximate a polygonal chain with the specified tolerance.\u001b[39;00m\n\u001b[1;32m      7\u001b[0m \n\u001b[1;32m      8\u001b[0m \u001b[38;5;124;03m    It is based on the Douglas-Peucker algorithm.\u001b[39;00m\n\u001b[0;32m   (...)\u001b[0m\n\u001b[1;32m     29\u001b[0m \u001b[38;5;124;03m    .. [1] https://en.wikipedia.org/wiki/Ramer-Douglas-Peucker_algorithm\u001b[39;00m\n\u001b[1;32m     30\u001b[0m \u001b[38;5;124;03m    \"\"\"\u001b[39;00m\n",
      "File \u001b[0;32m~/anaconda3/envs/course02502/lib/python3.9/site-packages/scipy/signal/__init__.py:309\u001b[0m\n\u001b[1;32m      1\u001b[0m \u001b[38;5;124;03m\"\"\"\u001b[39;00m\n\u001b[1;32m      2\u001b[0m \u001b[38;5;124;03m=======================================\u001b[39;00m\n\u001b[1;32m      3\u001b[0m \u001b[38;5;124;03mSignal processing (:mod:`scipy.signal`)\u001b[39;00m\n\u001b[0;32m   (...)\u001b[0m\n\u001b[1;32m    307\u001b[0m \n\u001b[1;32m    308\u001b[0m \u001b[38;5;124;03m\"\"\"\u001b[39;00m\n\u001b[0;32m--> 309\u001b[0m \u001b[38;5;28;01mfrom\u001b[39;00m \u001b[38;5;21;01m.\u001b[39;00m \u001b[38;5;28;01mimport\u001b[39;00m _sigtools, windows\n\u001b[1;32m    310\u001b[0m \u001b[38;5;28;01mfrom\u001b[39;00m \u001b[38;5;21;01m.\u001b[39;00m\u001b[38;5;21;01m_waveforms\u001b[39;00m \u001b[38;5;28;01mimport\u001b[39;00m \u001b[38;5;241m*\u001b[39m\n\u001b[1;32m    311\u001b[0m \u001b[38;5;28;01mfrom\u001b[39;00m \u001b[38;5;21;01m.\u001b[39;00m\u001b[38;5;21;01m_max_len_seq\u001b[39;00m \u001b[38;5;28;01mimport\u001b[39;00m max_len_seq\n",
      "File \u001b[0;32m~/anaconda3/envs/course02502/lib/python3.9/site-packages/scipy/signal/windows/__init__.py:41\u001b[0m\n\u001b[1;32m      1\u001b[0m \u001b[38;5;124;03m\"\"\"\u001b[39;00m\n\u001b[1;32m      2\u001b[0m \u001b[38;5;124;03mWindow functions (:mod:`scipy.signal.windows`)\u001b[39;00m\n\u001b[1;32m      3\u001b[0m \u001b[38;5;124;03m==============================================\u001b[39;00m\n\u001b[0;32m   (...)\u001b[0m\n\u001b[1;32m     38\u001b[0m \n\u001b[1;32m     39\u001b[0m \u001b[38;5;124;03m\"\"\"\u001b[39;00m\n\u001b[0;32m---> 41\u001b[0m \u001b[38;5;28;01mfrom\u001b[39;00m \u001b[38;5;21;01m.\u001b[39;00m\u001b[38;5;21;01m_windows\u001b[39;00m \u001b[38;5;28;01mimport\u001b[39;00m \u001b[38;5;241m*\u001b[39m\n\u001b[1;32m     43\u001b[0m \u001b[38;5;66;03m# Deprecated namespaces, to be removed in v2.0.0\u001b[39;00m\n\u001b[1;32m     44\u001b[0m \u001b[38;5;28;01mfrom\u001b[39;00m \u001b[38;5;21;01m.\u001b[39;00m \u001b[38;5;28;01mimport\u001b[39;00m windows\n",
      "File \u001b[0;32m~/anaconda3/envs/course02502/lib/python3.9/site-packages/scipy/signal/windows/_windows.py:7\u001b[0m\n\u001b[1;32m      4\u001b[0m \u001b[38;5;28;01mimport\u001b[39;00m \u001b[38;5;21;01mwarnings\u001b[39;00m\n\u001b[1;32m      6\u001b[0m \u001b[38;5;28;01mimport\u001b[39;00m \u001b[38;5;21;01mnumpy\u001b[39;00m \u001b[38;5;28;01mas\u001b[39;00m \u001b[38;5;21;01mnp\u001b[39;00m\n\u001b[0;32m----> 7\u001b[0m \u001b[38;5;28;01mfrom\u001b[39;00m \u001b[38;5;21;01mscipy\u001b[39;00m \u001b[38;5;28;01mimport\u001b[39;00m linalg, special, fft \u001b[38;5;28;01mas\u001b[39;00m sp_fft\n\u001b[1;32m      9\u001b[0m __all__ \u001b[38;5;241m=\u001b[39m [\u001b[38;5;124m'\u001b[39m\u001b[38;5;124mboxcar\u001b[39m\u001b[38;5;124m'\u001b[39m, \u001b[38;5;124m'\u001b[39m\u001b[38;5;124mtriang\u001b[39m\u001b[38;5;124m'\u001b[39m, \u001b[38;5;124m'\u001b[39m\u001b[38;5;124mparzen\u001b[39m\u001b[38;5;124m'\u001b[39m, \u001b[38;5;124m'\u001b[39m\u001b[38;5;124mbohman\u001b[39m\u001b[38;5;124m'\u001b[39m, \u001b[38;5;124m'\u001b[39m\u001b[38;5;124mblackman\u001b[39m\u001b[38;5;124m'\u001b[39m, \u001b[38;5;124m'\u001b[39m\u001b[38;5;124mnuttall\u001b[39m\u001b[38;5;124m'\u001b[39m,\n\u001b[1;32m     10\u001b[0m            \u001b[38;5;124m'\u001b[39m\u001b[38;5;124mblackmanharris\u001b[39m\u001b[38;5;124m'\u001b[39m, \u001b[38;5;124m'\u001b[39m\u001b[38;5;124mflattop\u001b[39m\u001b[38;5;124m'\u001b[39m, \u001b[38;5;124m'\u001b[39m\u001b[38;5;124mbartlett\u001b[39m\u001b[38;5;124m'\u001b[39m, \u001b[38;5;124m'\u001b[39m\u001b[38;5;124mhanning\u001b[39m\u001b[38;5;124m'\u001b[39m, \u001b[38;5;124m'\u001b[39m\u001b[38;5;124mbarthann\u001b[39m\u001b[38;5;124m'\u001b[39m,\n\u001b[1;32m     11\u001b[0m            \u001b[38;5;124m'\u001b[39m\u001b[38;5;124mhamming\u001b[39m\u001b[38;5;124m'\u001b[39m, \u001b[38;5;124m'\u001b[39m\u001b[38;5;124mkaiser\u001b[39m\u001b[38;5;124m'\u001b[39m, \u001b[38;5;124m'\u001b[39m\u001b[38;5;124mgaussian\u001b[39m\u001b[38;5;124m'\u001b[39m, \u001b[38;5;124m'\u001b[39m\u001b[38;5;124mgeneral_cosine\u001b[39m\u001b[38;5;124m'\u001b[39m,\n\u001b[1;32m     12\u001b[0m            \u001b[38;5;124m'\u001b[39m\u001b[38;5;124mgeneral_gaussian\u001b[39m\u001b[38;5;124m'\u001b[39m, \u001b[38;5;124m'\u001b[39m\u001b[38;5;124mgeneral_hamming\u001b[39m\u001b[38;5;124m'\u001b[39m, \u001b[38;5;124m'\u001b[39m\u001b[38;5;124mchebwin\u001b[39m\u001b[38;5;124m'\u001b[39m, \u001b[38;5;124m'\u001b[39m\u001b[38;5;124mcosine\u001b[39m\u001b[38;5;124m'\u001b[39m,\n\u001b[1;32m     13\u001b[0m            \u001b[38;5;124m'\u001b[39m\u001b[38;5;124mhann\u001b[39m\u001b[38;5;124m'\u001b[39m, \u001b[38;5;124m'\u001b[39m\u001b[38;5;124mexponential\u001b[39m\u001b[38;5;124m'\u001b[39m, \u001b[38;5;124m'\u001b[39m\u001b[38;5;124mtukey\u001b[39m\u001b[38;5;124m'\u001b[39m, \u001b[38;5;124m'\u001b[39m\u001b[38;5;124mtaylor\u001b[39m\u001b[38;5;124m'\u001b[39m, \u001b[38;5;124m'\u001b[39m\u001b[38;5;124mdpss\u001b[39m\u001b[38;5;124m'\u001b[39m, \u001b[38;5;124m'\u001b[39m\u001b[38;5;124mget_window\u001b[39m\u001b[38;5;124m'\u001b[39m]\n\u001b[1;32m     16\u001b[0m \u001b[38;5;28;01mdef\u001b[39;00m \u001b[38;5;21m_len_guards\u001b[39m(M):\n",
      "File \u001b[0;32m~/anaconda3/envs/course02502/lib/python3.9/site-packages/scipy/fft/__init__.py:91\u001b[0m\n\u001b[1;32m     89\u001b[0m \u001b[38;5;28;01mfrom\u001b[39;00m \u001b[38;5;21;01m.\u001b[39;00m\u001b[38;5;21;01m_realtransforms\u001b[39;00m \u001b[38;5;28;01mimport\u001b[39;00m dct, idct, dst, idst, dctn, idctn, dstn, idstn\n\u001b[1;32m     90\u001b[0m \u001b[38;5;28;01mfrom\u001b[39;00m \u001b[38;5;21;01m.\u001b[39;00m\u001b[38;5;21;01m_fftlog\u001b[39;00m \u001b[38;5;28;01mimport\u001b[39;00m fht, ifht, fhtoffset\n\u001b[0;32m---> 91\u001b[0m \u001b[38;5;28;01mfrom\u001b[39;00m \u001b[38;5;21;01m.\u001b[39;00m\u001b[38;5;21;01m_helper\u001b[39;00m \u001b[38;5;28;01mimport\u001b[39;00m next_fast_len\n\u001b[1;32m     92\u001b[0m \u001b[38;5;28;01mfrom\u001b[39;00m \u001b[38;5;21;01m.\u001b[39;00m\u001b[38;5;21;01m_backend\u001b[39;00m \u001b[38;5;28;01mimport\u001b[39;00m (set_backend, skip_backend, set_global_backend,\n\u001b[1;32m     93\u001b[0m                        register_backend)\n\u001b[1;32m     94\u001b[0m \u001b[38;5;28;01mfrom\u001b[39;00m \u001b[38;5;21;01mnumpy\u001b[39;00m\u001b[38;5;21;01m.\u001b[39;00m\u001b[38;5;21;01mfft\u001b[39;00m \u001b[38;5;28;01mimport\u001b[39;00m fftfreq, rfftfreq, fftshift, ifftshift\n",
      "File \u001b[0;32m~/anaconda3/envs/course02502/lib/python3.9/site-packages/scipy/fft/_helper.py:3\u001b[0m\n\u001b[1;32m      1\u001b[0m \u001b[38;5;28;01mfrom\u001b[39;00m \u001b[38;5;21;01mfunctools\u001b[39;00m \u001b[38;5;28;01mimport\u001b[39;00m update_wrapper, lru_cache\n\u001b[0;32m----> 3\u001b[0m \u001b[38;5;28;01mfrom\u001b[39;00m \u001b[38;5;21;01m.\u001b[39;00m\u001b[38;5;21;01m_pocketfft\u001b[39;00m \u001b[38;5;28;01mimport\u001b[39;00m helper \u001b[38;5;28;01mas\u001b[39;00m _helper\n\u001b[1;32m      6\u001b[0m \u001b[38;5;28;01mdef\u001b[39;00m \u001b[38;5;21mnext_fast_len\u001b[39m(target, real\u001b[38;5;241m=\u001b[39m\u001b[38;5;28;01mFalse\u001b[39;00m):\n\u001b[1;32m      7\u001b[0m \u001b[38;5;250m    \u001b[39m\u001b[38;5;124;03m\"\"\"Find the next fast size of input data to ``fft``, for zero-padding, etc.\u001b[39;00m\n\u001b[1;32m      8\u001b[0m \n\u001b[1;32m      9\u001b[0m \u001b[38;5;124;03m    SciPy's FFT algorithms gain their speed by a recursive divide and conquer\u001b[39;00m\n\u001b[0;32m   (...)\u001b[0m\n\u001b[1;32m     59\u001b[0m \n\u001b[1;32m     60\u001b[0m \u001b[38;5;124;03m    \"\"\"\u001b[39;00m\n",
      "File \u001b[0;32m~/anaconda3/envs/course02502/lib/python3.9/site-packages/scipy/fft/_pocketfft/__init__.py:3\u001b[0m\n\u001b[1;32m      1\u001b[0m \u001b[38;5;124;03m\"\"\" FFT backend using pypocketfft \"\"\"\u001b[39;00m\n\u001b[0;32m----> 3\u001b[0m \u001b[38;5;28;01mfrom\u001b[39;00m \u001b[38;5;21;01m.\u001b[39;00m\u001b[38;5;21;01mbasic\u001b[39;00m \u001b[38;5;28;01mimport\u001b[39;00m \u001b[38;5;241m*\u001b[39m\n\u001b[1;32m      4\u001b[0m \u001b[38;5;28;01mfrom\u001b[39;00m \u001b[38;5;21;01m.\u001b[39;00m\u001b[38;5;21;01mrealtransforms\u001b[39;00m \u001b[38;5;28;01mimport\u001b[39;00m \u001b[38;5;241m*\u001b[39m\n\u001b[1;32m      5\u001b[0m \u001b[38;5;28;01mfrom\u001b[39;00m \u001b[38;5;21;01m.\u001b[39;00m\u001b[38;5;21;01mhelper\u001b[39;00m \u001b[38;5;28;01mimport\u001b[39;00m \u001b[38;5;241m*\u001b[39m\n",
      "File \u001b[0;32m~/anaconda3/envs/course02502/lib/python3.9/site-packages/scipy/fft/_pocketfft/basic.py:6\u001b[0m\n\u001b[1;32m      4\u001b[0m \u001b[38;5;28;01mimport\u001b[39;00m \u001b[38;5;21;01mnumpy\u001b[39;00m \u001b[38;5;28;01mas\u001b[39;00m \u001b[38;5;21;01mnp\u001b[39;00m\n\u001b[1;32m      5\u001b[0m \u001b[38;5;28;01mimport\u001b[39;00m \u001b[38;5;21;01mfunctools\u001b[39;00m\n\u001b[0;32m----> 6\u001b[0m \u001b[38;5;28;01mfrom\u001b[39;00m \u001b[38;5;21;01m.\u001b[39;00m \u001b[38;5;28;01mimport\u001b[39;00m pypocketfft \u001b[38;5;28;01mas\u001b[39;00m pfft\n\u001b[1;32m      7\u001b[0m \u001b[38;5;28;01mfrom\u001b[39;00m \u001b[38;5;21;01m.\u001b[39;00m\u001b[38;5;21;01mhelper\u001b[39;00m \u001b[38;5;28;01mimport\u001b[39;00m (_asfarray, _init_nd_shape_and_axes, _datacopied,\n\u001b[1;32m      8\u001b[0m                      _fix_shape, _fix_shape_1d, _normalization,\n\u001b[1;32m      9\u001b[0m                      _workers)\n\u001b[1;32m     11\u001b[0m \u001b[38;5;28;01mdef\u001b[39;00m \u001b[38;5;21mc2c\u001b[39m(forward, x, n\u001b[38;5;241m=\u001b[39m\u001b[38;5;28;01mNone\u001b[39;00m, axis\u001b[38;5;241m=\u001b[39m\u001b[38;5;241m-\u001b[39m\u001b[38;5;241m1\u001b[39m, norm\u001b[38;5;241m=\u001b[39m\u001b[38;5;28;01mNone\u001b[39;00m, overwrite_x\u001b[38;5;241m=\u001b[39m\u001b[38;5;28;01mFalse\u001b[39;00m,\n\u001b[1;32m     12\u001b[0m         workers\u001b[38;5;241m=\u001b[39m\u001b[38;5;28;01mNone\u001b[39;00m, \u001b[38;5;241m*\u001b[39m, plan\u001b[38;5;241m=\u001b[39m\u001b[38;5;28;01mNone\u001b[39;00m):\n",
      "\u001b[0;31mImportError\u001b[0m: /home/chris/anaconda3/envs/course02502/lib/python3.9/site-packages/zmq/backend/cython/../../../../.././libstdc++.so.6: version `GLIBCXX_3.4.30' not found (required by /home/chris/anaconda3/envs/course02502/lib/python3.9/site-packages/scipy/fft/_pocketfft/pypocketfft.cpython-39-x86_64-linux-gnu.so)"
     ]
    }
   ],
   "source": [
    "from skimage import color, io, measure, img_as_ubyte, exposure\n",
    "from skimage.measure import profile_line\n",
    "from skimage.transform import rescale, resize\n",
    "import matplotlib.pyplot as plt\n",
    "import numpy as np\n",
    "import pydicom as dicom"
   ]
  },
  {
   "cell_type": "code",
   "execution_count": 2,
   "id": "64b143db-9ca1-43d5-a011-171ba33693f4",
   "metadata": {},
   "outputs": [],
   "source": [
    "# Directory containing data and images\n",
    "in_dir = \"data/\"\n",
    "\n",
    "# X-ray image\n",
    "im_name = \"vertebra.png\"\n",
    "\n",
    "# Read the image.\n",
    "# Here the directory and the image name is concatenated\n",
    "# by \"+\" to give the full path to the image.\n",
    "im_org = io.imread(in_dir + im_name)"
   ]
  },
  {
   "cell_type": "code",
   "execution_count": 3,
   "id": "ad316693-0c69-47f6-9af0-edaa8a90d818",
   "metadata": {},
   "outputs": [],
   "source": [
    "io.imshow(im_org)\n",
    "plt.title('Vertebra image')\n",
    "io.show()"
   ]
  },
  {
   "cell_type": "markdown",
   "id": "fa332882-7811-4f5e-ad10-1f6130b9985e",
   "metadata": {},
   "source": [
    "## Exercise 2"
   ]
  },
  {
   "cell_type": "code",
   "execution_count": 4,
   "id": "fca254f3-9e52-46cf-acd7-31530989210d",
   "metadata": {},
   "outputs": [],
   "source": [
    "np.min(im_org)"
   ]
  },
  {
   "cell_type": "code",
   "execution_count": 5,
   "id": "b823f49f-e25b-4dfd-9712-f89b5dca4d78",
   "metadata": {},
   "outputs": [],
   "source": [
    "np.max(im_org)"
   ]
  },
  {
   "cell_type": "code",
   "execution_count": 6,
   "id": "0caa4ae1-f5f0-4d1f-94e0-fbc76748f299",
   "metadata": {},
   "outputs": [],
   "source": [
    "io.imshow(im_org, vmin=57, vmax=235)\n",
    "plt.title('Vertebra image (with gray level scaling)')\n",
    "io.show()"
   ]
  },
  {
   "cell_type": "markdown",
   "id": "43ad086f-cf83-453c-94bc-28c71ed1bcb8",
   "metadata": {},
   "source": [
    "## Exercise 3"
   ]
  },
  {
   "cell_type": "code",
   "execution_count": 7,
   "id": "aa19a991-ad1e-47b1-b04a-2ea4b9a3ffbc",
   "metadata": {},
   "outputs": [],
   "source": [
    "from skimage.util import img_as_float\n",
    "from skimage.util import img_as_ubyte"
   ]
  },
  {
   "cell_type": "code",
   "execution_count": 8,
   "id": "1eebbd1e-3b94-4dc9-ad07-8b7a10f258eb",
   "metadata": {},
   "outputs": [],
   "source": [
    "float_img = img_as_float(im_org)"
   ]
  },
  {
   "cell_type": "code",
   "execution_count": 9,
   "id": "875b2cdf-9708-492b-92d2-22568be3faf9",
   "metadata": {},
   "outputs": [],
   "source": [
    "np.min(float_img)"
   ]
  },
  {
   "cell_type": "code",
   "execution_count": 10,
   "id": "52b25057-3ad2-4207-87da-4b7732553cb9",
   "metadata": {},
   "outputs": [],
   "source": [
    "np.max(float_img)"
   ]
  },
  {
   "cell_type": "markdown",
   "id": "466ad2f0-3ab1-41a5-b843-3172d7a85e8c",
   "metadata": {
    "tags": []
   },
   "source": [
    "## Exercise 4"
   ]
  },
  {
   "cell_type": "code",
   "execution_count": 11,
   "id": "5c29457a-4e93-4a0f-a369-b1815c889c9a",
   "metadata": {},
   "outputs": [],
   "source": [
    "ubyte_img = img_as_ubyte(float_img)"
   ]
  },
  {
   "cell_type": "code",
   "execution_count": 12,
   "id": "bbb5060e-00e2-4eca-bb35-e813e4424ee3",
   "metadata": {},
   "outputs": [],
   "source": [
    "np.min(ubyte_img)"
   ]
  },
  {
   "cell_type": "code",
   "execution_count": 13,
   "id": "26ac192c-02c1-4a3c-9326-7abd3c69b715",
   "metadata": {},
   "outputs": [],
   "source": [
    "np.max(ubyte_img)"
   ]
  },
  {
   "cell_type": "markdown",
   "id": "cf2712a7-2d1a-42df-9937-c6064365824c",
   "metadata": {},
   "source": [
    "## Exercise 5"
   ]
  },
  {
   "cell_type": "code",
   "execution_count": 14,
   "id": "1f3e17c3-6981-4f13-a889-b4a4f8a627ad",
   "metadata": {},
   "outputs": [],
   "source": [
    "def histogram_stretch(img_in):\n",
    "    \"\"\"\n",
    "    Stretches the histogram of an image \n",
    "    :param img_in: Input image\n",
    "    :return: Image, where the histogram is stretched so the min values is 0 and the maximum value 255\n",
    "    \"\"\"\n",
    "    # img_as_float will divide all pixel values with 255.0\n",
    "    img_float = img_as_float(img_in)\n",
    "    min_val = img_float.min()\n",
    "    max_val = img_float.max()\n",
    "    min_desired = 0.0\n",
    "    max_desired = 1.0\n",
    "\t\n",
    "    img_out = (max_desired - min_desired) / (max_val - min_val) * (img_float - min_val) + min_desired\n",
    "\n",
    "    # img_as_ubyte will multiply all pixel values with 255.0 before converting to unsigned byte\n",
    "    return img_as_ubyte(img_out)"
   ]
  },
  {
   "cell_type": "markdown",
   "id": "0283d8b2-fb74-4268-8a98-535cf161949c",
   "metadata": {},
   "source": [
    "## Exercise 6"
   ]
  },
  {
   "cell_type": "code",
   "execution_count": 15,
   "id": "f0917a7b-a38a-4c41-8be8-e80ea1136f16",
   "metadata": {},
   "outputs": [],
   "source": [
    "stretched_img = histogram_stretch(im_org)\n",
    "io.imshow(stretched_img)\n",
    "plt.title('Vertebra image after hist stretching')\n",
    "io.show()"
   ]
  },
  {
   "cell_type": "markdown",
   "id": "45d5409a-c56e-44e9-bc92-067fc21b3a36",
   "metadata": {},
   "source": [
    "## Exercise 7"
   ]
  },
  {
   "cell_type": "code",
   "execution_count": 16,
   "id": "333571d4-410e-4f35-99a3-feb0b0d1b0f0",
   "metadata": {},
   "outputs": [],
   "source": [
    "def gamma_map(img, gamma):\n",
    "    float_img = img_as_float(img)\n",
    "    gamma_map = np.power(float_img, gamma)\n",
    "    \n",
    "    return gamma_map"
   ]
  },
  {
   "cell_type": "markdown",
   "id": "5c3eef7f-1709-43b1-835d-31df35aee943",
   "metadata": {},
   "source": [
    "## Exercise 8"
   ]
  },
  {
   "cell_type": "code",
   "execution_count": 17,
   "id": "d23c4cb8-484a-4e6e-b60e-ee71a723b401",
   "metadata": {},
   "outputs": [],
   "source": [
    "gamma_mapped_img = gamma_map(im_org, 4)\n",
    "io.imshow(gamma_mapped_img)\n",
    "plt.title('Vertebra image after hist stretching')\n",
    "io.show()"
   ]
  },
  {
   "cell_type": "markdown",
   "id": "bb2dde9a-1692-41a2-9477-bcb413cb4096",
   "metadata": {},
   "source": [
    "## Exercise 9"
   ]
  },
  {
   "cell_type": "code",
   "execution_count": 18,
   "id": "1221bf71-7904-49e2-af14-4ed1d97092c7",
   "metadata": {},
   "outputs": [],
   "source": [
    "def threshold_image(img_in, thres):\n",
    "    \"\"\"\n",
    "    Apply a threshold in an image and return the resulting image\n",
    "    :param img_in: Input image\n",
    "    :param thres: The treshold value in the range [0, 255]\n",
    "    :return: Resulting image (unsigned byte) where background is 0 and foreground is 255\n",
    "    \"\"\"\n",
    "    mask = img_in > thres\n",
    "    return img_as_ubyte(mask)"
   ]
  },
  {
   "cell_type": "markdown",
   "id": "90d7529b-d031-4bef-87f4-eacaa946f5af",
   "metadata": {},
   "source": [
    "## Exercise 10"
   ]
  },
  {
   "cell_type": "code",
   "execution_count": null,
   "id": "f8c8d65a-21a9-4d84-8f73-1ea101d8b5ff",
   "metadata": {},
   "outputs": [],
   "source": [
    "im_thres = threshold_image(im_org, thres = 115)\n",
    "\n",
    "fig, ax = plt.subplots(nrows=1, ncols = 3, figsize = (12, 5))\n",
    "ax[0].imshow(im_org, cmap = 'gray', vmin = 0, vmax = 255)\n",
    "ax[0].set_title('Original image')\n",
    "ax[1].imshow(im_thres, cmap = 'gray', vmin = 0, vmax = 255)\n",
    "ax[1].set_title('Foreground image')\n",
    "ax[2].imshow(im_org, cmap = 'gray', vmin = 0, vmax = 255)\n",
    "ax[2].contour(im_thres, [254, 256])\n",
    "ax[2].set_title('Mask contour')\n",
    "plt.show()"
   ]
  },
  {
   "cell_type": "code",
   "execution_count": null,
   "id": "a05f5761-c80c-41bd-81e8-bf6e0c1a9eb9",
   "metadata": {},
   "outputs": [],
   "source": [
    "from skimage.filters import threshold_otsu"
   ]
  },
  {
   "cell_type": "markdown",
   "id": "6f537b80-0eb8-43bb-9c56-71f200ec4a4e",
   "metadata": {},
   "source": [
    "## Exercise 11"
   ]
  },
  {
   "cell_type": "code",
   "execution_count": null,
   "id": "cc2d104e-2d35-4b8c-837c-ce2563599d52",
   "metadata": {},
   "outputs": [],
   "source": [
    "otsu_threshold = threshold_otsu(im_org)\n",
    "otsu_img = threshold_image(im_org, otsu_threshold)\n",
    "\n",
    "fig, ax = plt.subplots(nrows=1, ncols = 2, figsize = (9, 5))\n",
    "ax[0].imshow(im_thres, cmap = 'gray', vmin = 0, vmax = 255)\n",
    "ax[0].set_title('Manual threshold image')\n",
    "ax[1].imshow(otsu_img, cmap = 'gray', vmin = 0, vmax = 255)\n",
    "ax[1].set_title('Otsu threshold image')\n",
    "plt.show()"
   ]
  },
  {
   "cell_type": "markdown",
   "id": "39200bd0-3bc2-4049-af37-17fb637203f9",
   "metadata": {},
   "source": [
    "## Exercise 12"
   ]
  },
  {
   "cell_type": "code",
   "execution_count": 38,
   "id": "af53c5dc-b058-4f41-967d-5bd9352cf5b8",
   "metadata": {},
   "outputs": [],
   "source": [
    "im_org = io.imread(in_dir + 'dark_background.png')\n",
    "from skimage.color import rgb2gray\n",
    "\n",
    "gray_img = rgb2gray(im_org)\n",
    "gray_img = img_as_ubyte(gray_img)\n",
    "\n",
    "otsu_img = threshold_image(gray_img, threshold_otsu(gray_img))\n",
    "manual_thres_img = threshold_image(gray_img, 5)\n",
    "\n",
    "fig, ax = plt.subplots(nrows=1, ncols = 3, figsize = (9, 5))\n",
    "\n",
    "ax[0].imshow(gray_img, cmap = 'gray', vmin = 0, vmax = 255)\n",
    "ax[0].set_title('Gray Image')\n",
    "ax[0].axis('off')\n",
    "ax[1].imshow(otsu_img, cmap = 'gray', vmin = 0, vmax = 255)\n",
    "ax[1].set_title('Otsu threshold')\n",
    "ax[1].axis('off')\n",
    "ax[2].imshow(manual_thres_img, cmap = 'gray', vmin = 0, vmax = 255)\n",
    "ax[2].set_title('Otsu threshold')\n",
    "ax[2].axis('off')\n",
    "plt.show()"
   ]
  },
  {
   "cell_type": "markdown",
   "id": "485a19f5-33d4-4db4-bf9c-fdd2f69b82a3",
   "metadata": {},
   "source": [
    "## Exercise 13"
   ]
  },
  {
   "cell_type": "code",
   "execution_count": null,
   "id": "cbc4071c-f0fa-43ba-9e03-480e286bf822",
   "metadata": {},
   "outputs": [],
   "source": [
    "im_org = io.imread(in_dir + 'DTUSigns2.jpg')\n",
    "io.imshow(im_org)\n",
    "plt.title('DTU sign image')\n",
    "io.show()"
   ]
  },
  {
   "cell_type": "code",
   "execution_count": 33,
   "id": "d3028a8e-d75b-4f00-a8eb-b203136e64c0",
   "metadata": {},
   "outputs": [],
   "source": [
    "def detect_dtu_signs(img_in, sign):\n",
    "    r_comp = im_org[:, :, 0]\n",
    "    g_comp = im_org[:, :, 1]\n",
    "    b_comp = im_org[:, :, 2]\n",
    "    if sign == 'blue':\n",
    "        segm = (r_comp < 10) & (g_comp > 85) & (g_comp < 105) & \\\n",
    "                (b_comp > 180) & (b_comp < 200)\n",
    "    if sign == 'red':\n",
    "        segm = (r_comp > 160) & (r_comp < 180) & (g_comp > 50) & (g_comp < 80) & \\\n",
    "                    (b_comp > 50) & (b_comp < 80)\n",
    "    return img_as_ubyte(segm)"
   ]
  },
  {
   "cell_type": "code",
   "execution_count": 34,
   "id": "362fca5e-d7bc-4ca5-a44a-718060697e38",
   "metadata": {},
   "outputs": [],
   "source": [
    "blue_sign_img = detect_dtu_signs(im_org, 'blue')\n",
    "io.imshow(blue_sign_img)\n",
    "plt.title('Blue sign identified')\n",
    "io.show()"
   ]
  },
  {
   "cell_type": "markdown",
   "id": "5822f5a2-a1f6-4adb-990b-2a858a944c93",
   "metadata": {},
   "source": [
    "## Exercise 14"
   ]
  },
  {
   "cell_type": "code",
   "execution_count": 36,
   "id": "4f058bca-1ee6-4ac1-ba22-47c98480a933",
   "metadata": {},
   "outputs": [],
   "source": [
    "red_sign_img = detect_dtu_signs(im_org, 'red')\n",
    "io.imshow(red_sign_img, cmap = 'gray')\n",
    "plt.title('Red sign identified')\n",
    "io.show()"
   ]
  },
  {
   "cell_type": "code",
   "execution_count": null,
   "id": "2550b18a-28c3-49ab-b7f6-522693386e5a",
   "metadata": {},
   "outputs": [],
   "source": [
    "r = 1530\n",
    "c = 2250\n",
    "print('Value of only R channel {}'.format(im_org[ r, c, 0]))\n",
    "print('Value of only G channel {}'.format(im_org[ r, c, 1]))\n",
    "print('Value of only B channel {}'.format(im_org[ r, c, 2]))"
   ]
  },
  {
   "cell_type": "markdown",
   "id": "bb98b1cb-5611-4a55-b96f-c355747b25e6",
   "metadata": {},
   "source": [
    "## Exercise 15"
   ]
  },
  {
   "cell_type": "code",
   "execution_count": 37,
   "id": "3ac1a6a7-2fdf-498c-95fb-1341f7f724af",
   "metadata": {},
   "outputs": [],
   "source": [
    "hsv_img = color.rgb2hsv(im_org)\n",
    "hue_img = hsv_img[:, :, 0]\n",
    "value_img = hsv_img[:, :, 2]\n",
    "fig, (ax0, ax1, ax2) = plt.subplots(ncols=3, figsize=(8, 2))\n",
    "ax0.imshow(im_org)\n",
    "ax0.set_title(\"RGB image\")\n",
    "ax0.axis('off')\n",
    "ax1.imshow(hue_img, cmap='hsv')\n",
    "ax1.set_title(\"Hue channel\")\n",
    "ax1.axis('off')\n",
    "ax2.imshow(value_img)\n",
    "ax2.set_title(\"Value channel\")\n",
    "ax2.axis('off')\n",
    "\n",
    "fig.tight_layout()\n",
    "io.show()"
   ]
  },
  {
   "cell_type": "code",
   "execution_count": 40,
   "id": "0d046424-2a47-4902-86af-1a998f4f0e4b",
   "metadata": {},
   "outputs": [],
   "source": [
    "r = 1800\n",
    "c = 750\n",
    "print('Value of only R channel {}'.format(hsv_img[ r, c, 0]))\n",
    "print('Value of only G channel {}'.format(hsv_img[ r, c, 1]))\n",
    "print('Value of only B channel {}'.format(hsv_img[ r, c, 2]))"
   ]
  },
  {
   "cell_type": "code",
   "execution_count": 45,
   "id": "dede8af9-1e38-4a83-9471-fcb2d2096329",
   "metadata": {},
   "outputs": [],
   "source": [
    "segm_blue = (hue_img < 0.6) & (hue_img  > 0.55) & (value_img < 0.77) & (value_img > 0.70)\n",
    "segm_red = (hue_img < 1.0) & (hue_img  > 0.99)\n",
    "\n",
    "fig, (ax1, ax2) = plt.subplots(1,2,figsize = (10,5))\n",
    "ax1.imshow(segm_blue, cmap = 'gray')\n",
    "ax1.set_title('DTU sign image (Blue)')\n",
    "\n",
    "ax2.imshow(segm_red, cmap = 'gray')\n",
    "ax2.set_title('DTU sign image (Red)')\n",
    "plt.show()"
   ]
  },
  {
   "cell_type": "markdown",
   "id": "40d6c0e6-9644-48e7-b69a-d0b9c58a61fc",
   "metadata": {
    "jp-MarkdownHeadingCollapsed": true,
    "tags": []
   },
   "source": [
    "## Exercise 16"
   ]
  },
  {
   "cell_type": "code",
   "execution_count": 7,
   "id": "cbbe2d33-86f3-4d56-b48c-17ef15875a86",
   "metadata": {},
   "outputs": [
    {
     "name": "stdout",
     "output_type": "stream",
     "text": [
      "/bin/bash: /home/chris/anaconda3/envs/course02502/lib/python3.9/site-packages/cv2/../../../../lib/libtinfo.so.6: no version information available (required by /bin/bash)\n",
      "Starting image capture\n",
      "Opening connection to camera\n",
      "[ WARN:0@0.009] global /croot/opencv-suite_1676452025216/work/modules/videoio/src/cap_gstreamer.cpp (862) isPipelinePlaying OpenCV | GStreamer warning: GStreamer: pipeline have not been created\n",
      "Starting camera loop\n",
      "libGL error: MESA-LOADER: failed to open iris: /usr/lib/dri/iris_dri.so: cannot open shared object file: No such file or directory (search paths /usr/lib/x86_64-linux-gnu/dri:\\$${ORIGIN}/dri:/usr/lib/dri, suffix _dri)\n",
      "libGL error: failed to load driver: iris\n",
      "libGL error: MESA-LOADER: failed to open iris: /usr/lib/dri/iris_dri.so: cannot open shared object file: No such file or directory (search paths /usr/lib/x86_64-linux-gnu/dri:\\$${ORIGIN}/dri:/usr/lib/dri, suffix _dri)\n",
      "libGL error: failed to load driver: iris\n",
      "libGL error: MESA-LOADER: failed to open swrast: /usr/lib/dri/swrast_dri.so: cannot open shared object file: No such file or directory (search paths /usr/lib/x86_64-linux-gnu/dri:\\$${ORIGIN}/dri:/usr/lib/dri, suffix _dri)\n",
      "libGL error: failed to load driver: swrast\n",
      "Stopping image loop\n"
     ]
    }
   ],
   "source": [
    "!python data/Ex3-VideoPixelWiseOperations.py"
   ]
  },
  {
   "cell_type": "code",
   "execution_count": 12,
   "id": "74776bf4-bfb9-4d70-b941-629fe1f7f3c1",
   "metadata": {},
   "outputs": [
    {
     "name": "stdout",
     "output_type": "stream",
     "text": [
      "/bin/bash: /home/chris/anaconda3/envs/course02502/lib/python3.9/site-packages/cv2/../../../../lib/libtinfo.so.6: no version information available (required by /bin/bash)\n",
      "Starting image capture\n",
      "Opening connection to camera\n",
      "[ WARN:0@0.008] global /croot/opencv-suite_1676452025216/work/modules/videoio/src/cap_gstreamer.cpp (862) isPipelinePlaying OpenCV | GStreamer warning: GStreamer: pipeline have not been created\n",
      "Starting camera loop\n",
      "libGL error: MESA-LOADER: failed to open iris: /usr/lib/dri/iris_dri.so: cannot open shared object file: No such file or directory (search paths /usr/lib/x86_64-linux-gnu/dri:\\$${ORIGIN}/dri:/usr/lib/dri, suffix _dri)\n",
      "libGL error: failed to load driver: iris\n",
      "libGL error: MESA-LOADER: failed to open iris: /usr/lib/dri/iris_dri.so: cannot open shared object file: No such file or directory (search paths /usr/lib/x86_64-linux-gnu/dri:\\$${ORIGIN}/dri:/usr/lib/dri, suffix _dri)\n",
      "libGL error: failed to load driver: iris\n",
      "libGL error: MESA-LOADER: failed to open swrast: /usr/lib/dri/swrast_dri.so: cannot open shared object file: No such file or directory (search paths /usr/lib/x86_64-linux-gnu/dri:\\$${ORIGIN}/dri:/usr/lib/dri, suffix _dri)\n",
      "libGL error: failed to load driver: swrast\n",
      "Stopping image loop\n"
     ]
    }
   ],
   "source": [
    "!python data/exercise17.py"
   ]
  },
  {
   "cell_type": "code",
   "execution_count": 26,
   "id": "2878ef8b-1e50-4d53-9dbc-6f77e1eba47b",
   "metadata": {},
   "outputs": [
    {
     "name": "stdout",
     "output_type": "stream",
     "text": [
      "/bin/bash: /home/chris/anaconda3/envs/course02502/lib/python3.9/site-packages/cv2/../../../../lib/libtinfo.so.6: no version information available (required by /bin/bash)\n",
      "Starting image capture\n",
      "Opening connection to camera\n",
      "[ WARN:0@0.016] global /croot/opencv-suite_1676452025216/work/modules/videoio/src/cap_gstreamer.cpp (862) isPipelinePlaying OpenCV | GStreamer warning: GStreamer: pipeline have not been created\n",
      "Starting camera loop\n",
      "libGL error: MESA-LOADER: failed to open iris: /usr/lib/dri/iris_dri.so: cannot open shared object file: No such file or directory (search paths /usr/lib/x86_64-linux-gnu/dri:\\$${ORIGIN}/dri:/usr/lib/dri, suffix _dri)\n",
      "libGL error: failed to load driver: iris\n",
      "libGL error: MESA-LOADER: failed to open iris: /usr/lib/dri/iris_dri.so: cannot open shared object file: No such file or directory (search paths /usr/lib/x86_64-linux-gnu/dri:\\$${ORIGIN}/dri:/usr/lib/dri, suffix _dri)\n",
      "libGL error: failed to load driver: iris\n",
      "libGL error: MESA-LOADER: failed to open swrast: /usr/lib/dri/swrast_dri.so: cannot open shared object file: No such file or directory (search paths /usr/lib/x86_64-linux-gnu/dri:\\$${ORIGIN}/dri:/usr/lib/dri, suffix _dri)\n",
      "libGL error: failed to load driver: swrast\n",
      "Stopping image loop\n"
     ]
    }
   ],
   "source": [
    "!python data/exercise18.py"
   ]
  },
  {
   "cell_type": "code",
   "execution_count": null,
   "id": "54cac20e-5de4-492f-bb6e-1af5e2cac982",
   "metadata": {},
   "outputs": [],
   "source": []
  }
 ],
 "metadata": {
  "kernelspec": {
   "display_name": "Python 3",
   "language": "python",
   "name": "python3"
  },
  "language_info": {
   "codemirror_mode": {
    "name": "ipython",
    "version": 3
   },
   "file_extension": ".py",
   "mimetype": "text/x-python",
   "name": "python",
   "nbconvert_exporter": "python",
   "pygments_lexer": "ipython3",
   "version": "3.9.16"
  }
 },
 "nbformat": 4,
 "nbformat_minor": 5
}
