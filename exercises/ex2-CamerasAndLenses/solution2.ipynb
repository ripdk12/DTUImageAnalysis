{
 "cells": [
  {
   "cell_type": "code",
   "execution_count": 1,
   "id": "37ca9a53-c038-4448-a2d2-455eaf6c88c3",
   "metadata": {},
   "outputs": [],
   "source": [
    "import math"
   ]
  },
  {
   "cell_type": "code",
   "execution_count": 5,
   "id": "b2330933-e877-4ad6-b472-959c8136f993",
   "metadata": {},
   "outputs": [
    {
     "name": "stdout",
     "output_type": "stream",
     "text": [
      "73.30075576600639\n"
     ]
    }
   ],
   "source": [
    "a = 10\n",
    "b = 3\n",
    "rad = math.atan2(a, b)\n",
    "deg = math.degrees(rad)\n",
    "print(deg)"
   ]
  },
  {
   "cell_type": "code",
   "execution_count": 7,
   "id": "b7933b8e-98c6-413b-a2eb-255899117661",
   "metadata": {},
   "outputs": [],
   "source": [
    "def camera_b_distance(f, g):\n",
    "    \"\"\"\n",
    "    camera_b_distance returns the distance (b) where the CCD should be placed\n",
    "    when the object distance (g) and the focal length (f) are given\n",
    "    :param f: Focal length\n",
    "    :param g: Object distance\n",
    "    :return: b, the distance where the CCD should be placed\n",
    "    \"\"\"\n",
    "    return 1/(1/f - 1/g)"
   ]
  },
  {
   "cell_type": "code",
   "execution_count": 14,
   "id": "91f52536-1a4d-4a61-a5d2-763950d0446b",
   "metadata": {},
   "outputs": [
    {
     "name": "stdout",
     "output_type": "stream",
     "text": [
      "0.01764705882352941\n",
      "0.015228426395939085\n",
      "0.015045135406218655\n",
      "0.015015015015015013\n",
      "The CCD distance converges towards the focal length on increasing object distance\n"
     ]
    }
   ],
   "source": [
    "print(camera_b_distance(0.015, 0.1))\n",
    "print(camera_b_distance(0.015, 1))\n",
    "print(camera_b_distance(0.015, 5))\n",
    "print(camera_b_distance(0.015, 15))\n",
    "print(\"The CCD distance converges towards the focal length on increasing object distance\")"
   ]
  },
  {
   "cell_type": "code",
   "execution_count": null,
   "id": "fdaa6c5c-2634-451b-92c1-5025472dcddd",
   "metadata": {},
   "outputs": [],
   "source": []
  }
 ],
 "metadata": {
  "kernelspec": {
   "display_name": "Python 3",
   "language": "python",
   "name": "python3"
  },
  "language_info": {
   "codemirror_mode": {
    "name": "ipython",
    "version": 3
   },
   "file_extension": ".py",
   "mimetype": "text/x-python",
   "name": "python",
   "nbconvert_exporter": "python",
   "pygments_lexer": "ipython3",
   "version": "3.9.16"
  }
 },
 "nbformat": 4,
 "nbformat_minor": 5
}
